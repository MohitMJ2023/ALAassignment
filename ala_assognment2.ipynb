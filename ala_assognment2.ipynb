{
  "nbformat": 4,
  "nbformat_minor": 0,
  "metadata": {
    "colab": {
      "provenance": []
    },
    "kernelspec": {
      "name": "python3",
      "display_name": "Python 3"
    },
    "language_info": {
      "name": "python"
    }
  },
  "cells": [
    {
      "cell_type": "code",
      "execution_count": 11,
      "metadata": {
        "colab": {
          "base_uri": "https://localhost:8080/"
        },
        "id": "NYd9K4nj4Gjm",
        "outputId": "44190ff4-344a-482f-884e-dd0dcae4221b"
      },
      "outputs": [
        {
          "output_type": "stream",
          "name": "stdout",
          "text": [
            "+-----------+------+-------+------+----------+\n",
            "|  Patient  |  HR  |   BP  | Temp | Distance |\n",
            "+-----------+------+-------+------+----------+\n",
            "| Patient 1 | 76.0 | 126.0 | 38.0 |   1.46   |\n",
            "| Patient 2 | 74.0 | 120.0 | 38.0 |   5.11   |\n",
            "| Patient 3 | 72.0 | 118.0 | 37.5 |   7.62   |\n",
            "| Patient 4 | 78.0 | 136.0 | 37.0 |  11.42   |\n",
            "+-----------+------+-------+------+----------+\n",
            "The patient farthest from the rest is: Patient 4\n"
          ]
        }
      ],
      "source": [
        "import numpy as np\n",
        "from prettytable import PrettyTable\n",
        "#Patient statistics data\n",
        "data =np.array( [\n",
        "    [76, 126, 38.0],\n",
        "    [74, 120, 38.0],\n",
        "    [72, 118, 37.5],\n",
        "    [78, 136, 37.0]\n",
        "])\n",
        "\n",
        "distance =  np.linalg.norm(np.array(data) - np.mean(data,axis=0),axis=1)\n",
        "farthestPAT = np.argmax(distance)\n",
        "# argmax is used to find the index of the max distance from the mean\n",
        "\n",
        "patient_table = PrettyTable()\n",
        "patient_table.field_names = [\"Patient\", \"HR\", \"BP\", \"Temp\", \"Distance\"]\n",
        "# setting col headers\n",
        "for i, (hr, bp, temp) in enumerate(data):\n",
        "    distances = round(distance[i], 2)\n",
        "    patient_table.add_row([f\"Patient {i + 1}\", hr, bp, temp, distances])\n",
        "\n",
        "# enumarate funtion is used to get both index i and patient stat where i is the index of the current itiration round is used to round of the distance to 2 digits after the decimal point\n",
        "# distances is the distance from the mean\n",
        "print(patient_table)\n",
        "print(f\"The patient farthest from the rest is: Patient {farthestPAT + 1}\")\n"
      ]
    },
    {
      "cell_type": "markdown",
      "source": [
        "WE CAN ALSO ANSWER THE QUESTION OF WHICH 2 PATIENTS ARE THE CLOSEST WHICH IS"
      ],
      "metadata": {
        "id": "8fY34XiuwUmj"
      }
    },
    {
      "cell_type": "code",
      "source": [
        "\n",
        "from itertools import combinations\n",
        "\n",
        "\n",
        "# Calculate pairwise distances between patients\n",
        "distances = np.linalg.norm(np.array(data)[:, np.newaxis] - np.array(data), axis=2)\n",
        "\n",
        "# Fill diagonal with large values to exclude self-distances\n",
        "np.fill_diagonal(distances, np.inf)\n",
        "\n",
        "# Find the indices of the two patients with the smallest distance\n",
        "nearest_patient_indices = np.unravel_index(np.argmin(distances), distances.shape)\n",
        "\n",
        "# Create a PrettyTable object\n",
        "patient_table = PrettyTable()\n",
        "\n",
        "# Add columns (headers)\n",
        "patient_table.field_names = [\"Patient 1\", \"Patient 2\", \"Distance\"]\n",
        "\n",
        "# Add row for the two nearest patients\n",
        "patient_table.add_row([f\"Patient {nearest_patient_indices[0] + 1}\",\n",
        "                       f\"Patient {nearest_patient_indices[1] + 1}\",\n",
        "                       round(distances[nearest_patient_indices], 2)])\n",
        "\n",
        "# Print the nearest patients table\n",
        "print(patient_table)\n"
      ],
      "metadata": {
        "colab": {
          "base_uri": "https://localhost:8080/"
        },
        "id": "Ouciv9rwxoNr",
        "outputId": "bea1e960-83a5-45a4-d93b-254156794eb7"
      },
      "execution_count": 12,
      "outputs": [
        {
          "output_type": "stream",
          "name": "stdout",
          "text": [
            "+-----------+-----------+----------+\n",
            "| Patient 1 | Patient 2 | Distance |\n",
            "+-----------+-----------+----------+\n",
            "| Patient 2 | Patient 3 |   2.87   |\n",
            "+-----------+-----------+----------+\n"
          ]
        }
      ]
    },
    {
      "cell_type": "code",
      "source": [
        "\n",
        "\n",
        "\n",
        "\n",
        "\n",
        "# New patient statistics data\n",
        "new_patient_stats = np.array([80, 130, 37.8])\n",
        "\n",
        "# Combine existing data with the new patient\n",
        "combined_data = np.vstack((data, new_patient_stats))\n",
        "\n",
        "# Calculate pairwise distances between patients\n",
        "pairwise_distances = np.linalg.norm(combined_data[:, np.newaxis] - combined_data, axis=2)\n",
        "\n",
        "\n",
        "\n",
        "# Find the index of the existing patient closest to the new patient\n",
        "closest_existing_patient_index = np.argmin(pairwise_distances[-1, :-1])\n",
        "\n",
        "# Create a PrettyTable object\n",
        "patient_table = PrettyTable()\n",
        "\n",
        "# Add columns (headers)\n",
        "patient_table.field_names = [\"Patient\", \"HR\", \"BP\", \"Temp\", \"Distance\"]\n",
        "\n",
        "# Add rows of data with distances\n",
        "for i, (hr, bp, temp) in enumerate(combined_data):\n",
        "    distance = round(pairwise_distances[i, -1], 2)\n",
        "    patient_table.add_row([f\"Patient {i + 1}\", hr, bp, temp, distance])\n",
        "\n",
        "# Print the patient statistics table\n",
        "print(patient_table)\n",
        "\n",
        "# Print the existing patient closest to the new patient\n",
        "print(f\"The existing patient closest to the new patient is: Patient {closest_existing_patient_index + 1}\")\n"
      ],
      "metadata": {
        "colab": {
          "base_uri": "https://localhost:8080/"
        },
        "id": "JdSrTlzOuQow",
        "outputId": "15d2c4b9-9075-4082-b18f-f0dff820f80c"
      },
      "execution_count": 9,
      "outputs": [
        {
          "output_type": "stream",
          "name": "stdout",
          "text": [
            "+-----------+------+-------+------+----------+\n",
            "|  Patient  |  HR  |   BP  | Temp | Distance |\n",
            "+-----------+------+-------+------+----------+\n",
            "| Patient 1 | 76.0 | 126.0 | 38.0 |   5.66   |\n",
            "| Patient 2 | 74.0 | 120.0 | 38.0 |  11.66   |\n",
            "| Patient 3 | 72.0 | 118.0 | 37.5 |  14.43   |\n",
            "| Patient 4 | 78.0 | 136.0 | 37.0 |   6.37   |\n",
            "| Patient 5 | 80.0 | 130.0 | 37.8 |   0.0    |\n",
            "+-----------+------+-------+------+----------+\n",
            "The existing patient closest to the new patient is: Patient 1\n"
          ]
        }
      ]
    },
    {
      "cell_type": "markdown",
      "source": [
        "here we are essentailly trying to find the distance between each patient and the new patient unlike in the first problem where we found the distance of each aptient and the mean of all values here we are simply finding the euclidiean distance between each patient pair"
      ],
      "metadata": {
        "id": "h4X6gP39vEB8"
      }
    },
    {
      "cell_type": "markdown",
      "source": [
        "**Finding the Closest Two Patients:\n",
        "The time complexity of calculating pairwise distances is O(n^2), where n is the number of patients.**"
      ],
      "metadata": {
        "id": "VBdH6Cstyygi"
      }
    },
    {
      "cell_type": "markdown",
      "source": [
        "**Finding the Farthest Patient:The time complexity of this part is O(n), where n is the number of patients.**"
      ],
      "metadata": {
        "id": "b70K7CxRzCAe"
      }
    },
    {
      "cell_type": "code",
      "source": [],
      "metadata": {
        "id": "Mc5McxMjyyM3"
      },
      "execution_count": null,
      "outputs": []
    },
    {
      "cell_type": "code",
      "source": [],
      "metadata": {
        "id": "QReoLmObwCil"
      },
      "execution_count": null,
      "outputs": []
    }
  ]
}